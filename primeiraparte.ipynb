{
 "cells": [
  {
   "cell_type": "markdown",
   "metadata": {
    "colab_type": "text",
    "id": "Sg87mtPFCtTK"
   },
   "source": [
    "Trabalho de data science.\n",
    "Alunos: Otávio Theodoro de Bortoli Villela Santos e Willian Nascimento Lovato"
   ]
  },
  {
   "cell_type": "code",
   "execution_count": 61,
   "metadata": {
    "colab": {
     "base_uri": "https://localhost:8080/",
     "height": 122
    },
    "colab_type": "code",
    "id": "g937sFioJ6fV",
    "outputId": "f7321d65-e279-42f0-de65-7c8cef50078d"
   },
   "outputs": [],
   "source": [
    "import matplotlib.pyplot as plt\n",
    "import pandas as pd\n",
    "import numpy as np"
   ]
  },
  {
   "cell_type": "code",
   "execution_count": 64,
   "metadata": {
    "colab": {},
    "colab_type": "code",
    "id": "xtuKAXh5OhWV"
   },
   "outputs": [
    {
     "name": "stdout",
     "output_type": "stream",
     "text": [
      "<class 'pandas.core.frame.DataFrame'>\n",
      "RangeIndex: 27820 entries, 0 to 27819\n",
      "Data columns (total 12 columns):\n",
      "country               27820 non-null object\n",
      "year                  27820 non-null int64\n",
      "sex                   27820 non-null object\n",
      "age                   27820 non-null object\n",
      "suicides_no           27820 non-null int64\n",
      "population            27820 non-null int64\n",
      "suicides/100k pop     27820 non-null float64\n",
      "country-year          27820 non-null object\n",
      "HDI for year          8364 non-null float64\n",
      " gdp_for_year ($)     27820 non-null object\n",
      "gdp_per_capita ($)    27820 non-null int64\n",
      "generation            27820 non-null object\n",
      "dtypes: float64(2), int64(4), object(6)\n",
      "memory usage: 2.5+ MB\n"
     ]
    }
   ],
   "source": [
    "df1=pd.read_csv('data.csv')\n",
    "df1.info()"
   ]
  },
  {
   "cell_type": "code",
   "execution_count": 65,
   "metadata": {},
   "outputs": [
    {
     "data": {
      "text/html": [
       "<div>\n",
       "<style scoped>\n",
       "    .dataframe tbody tr th:only-of-type {\n",
       "        vertical-align: middle;\n",
       "    }\n",
       "\n",
       "    .dataframe tbody tr th {\n",
       "        vertical-align: top;\n",
       "    }\n",
       "\n",
       "    .dataframe thead th {\n",
       "        text-align: right;\n",
       "    }\n",
       "</style>\n",
       "<table border=\"1\" class=\"dataframe\">\n",
       "  <thead>\n",
       "    <tr style=\"text-align: right;\">\n",
       "      <th></th>\n",
       "      <th>year</th>\n",
       "      <th>suicides_no</th>\n",
       "      <th>population</th>\n",
       "      <th>suicides/100k pop</th>\n",
       "      <th>HDI for year</th>\n",
       "      <th>gdp_per_capita ($)</th>\n",
       "    </tr>\n",
       "  </thead>\n",
       "  <tbody>\n",
       "    <tr>\n",
       "      <th>count</th>\n",
       "      <td>27820.000000</td>\n",
       "      <td>27820.000000</td>\n",
       "      <td>2.782000e+04</td>\n",
       "      <td>27820.000000</td>\n",
       "      <td>8364.000000</td>\n",
       "      <td>27820.000000</td>\n",
       "    </tr>\n",
       "    <tr>\n",
       "      <th>mean</th>\n",
       "      <td>2001.258375</td>\n",
       "      <td>242.574407</td>\n",
       "      <td>1.844794e+06</td>\n",
       "      <td>12.816097</td>\n",
       "      <td>0.776601</td>\n",
       "      <td>16866.464414</td>\n",
       "    </tr>\n",
       "    <tr>\n",
       "      <th>std</th>\n",
       "      <td>8.469055</td>\n",
       "      <td>902.047917</td>\n",
       "      <td>3.911779e+06</td>\n",
       "      <td>18.961511</td>\n",
       "      <td>0.093367</td>\n",
       "      <td>18887.576472</td>\n",
       "    </tr>\n",
       "    <tr>\n",
       "      <th>min</th>\n",
       "      <td>1985.000000</td>\n",
       "      <td>0.000000</td>\n",
       "      <td>2.780000e+02</td>\n",
       "      <td>0.000000</td>\n",
       "      <td>0.483000</td>\n",
       "      <td>251.000000</td>\n",
       "    </tr>\n",
       "    <tr>\n",
       "      <th>25%</th>\n",
       "      <td>1995.000000</td>\n",
       "      <td>3.000000</td>\n",
       "      <td>9.749850e+04</td>\n",
       "      <td>0.920000</td>\n",
       "      <td>0.713000</td>\n",
       "      <td>3447.000000</td>\n",
       "    </tr>\n",
       "    <tr>\n",
       "      <th>50%</th>\n",
       "      <td>2002.000000</td>\n",
       "      <td>25.000000</td>\n",
       "      <td>4.301500e+05</td>\n",
       "      <td>5.990000</td>\n",
       "      <td>0.779000</td>\n",
       "      <td>9372.000000</td>\n",
       "    </tr>\n",
       "    <tr>\n",
       "      <th>75%</th>\n",
       "      <td>2008.000000</td>\n",
       "      <td>131.000000</td>\n",
       "      <td>1.486143e+06</td>\n",
       "      <td>16.620000</td>\n",
       "      <td>0.855000</td>\n",
       "      <td>24874.000000</td>\n",
       "    </tr>\n",
       "    <tr>\n",
       "      <th>max</th>\n",
       "      <td>2016.000000</td>\n",
       "      <td>22338.000000</td>\n",
       "      <td>4.380521e+07</td>\n",
       "      <td>224.970000</td>\n",
       "      <td>0.944000</td>\n",
       "      <td>126352.000000</td>\n",
       "    </tr>\n",
       "  </tbody>\n",
       "</table>\n",
       "</div>"
      ],
      "text/plain": [
       "               year   suicides_no    population  suicides/100k pop  \\\n",
       "count  27820.000000  27820.000000  2.782000e+04       27820.000000   \n",
       "mean    2001.258375    242.574407  1.844794e+06          12.816097   \n",
       "std        8.469055    902.047917  3.911779e+06          18.961511   \n",
       "min     1985.000000      0.000000  2.780000e+02           0.000000   \n",
       "25%     1995.000000      3.000000  9.749850e+04           0.920000   \n",
       "50%     2002.000000     25.000000  4.301500e+05           5.990000   \n",
       "75%     2008.000000    131.000000  1.486143e+06          16.620000   \n",
       "max     2016.000000  22338.000000  4.380521e+07         224.970000   \n",
       "\n",
       "       HDI for year  gdp_per_capita ($)  \n",
       "count   8364.000000        27820.000000  \n",
       "mean       0.776601        16866.464414  \n",
       "std        0.093367        18887.576472  \n",
       "min        0.483000          251.000000  \n",
       "25%        0.713000         3447.000000  \n",
       "50%        0.779000         9372.000000  \n",
       "75%        0.855000        24874.000000  \n",
       "max        0.944000       126352.000000  "
      ]
     },
     "execution_count": 65,
     "metadata": {},
     "output_type": "execute_result"
    }
   ],
   "source": [
    "df1.describe()"
   ]
  },
  {
   "cell_type": "markdown",
   "metadata": {
    "colab_type": "text",
    "id": "bW3CuxvuXH9r"
   },
   "source": [
    "Verificando quantidade de valores nulos."
   ]
  },
  {
   "cell_type": "code",
   "execution_count": 68,
   "metadata": {
    "colab": {
     "base_uri": "https://localhost:8080/",
     "height": 272
    },
    "colab_type": "code",
    "id": "jB7TDDWSFupL",
    "outputId": "a4b36188-76df-4aef-8e30-e223b5f136af"
   },
   "outputs": [
    {
     "name": "stdout",
     "output_type": "stream",
     "text": [
      "(8364, 12)\n"
     ]
    }
   ],
   "source": [
    "df1.shape\n",
    "df1 = df1.dropna()\n",
    "df1.rename(columns={\" gdp_for_year ($) \": \"GdpForYear\", \"gdp_per_capita ($)\": \"GdpPerCapita\", \"suicides/100k pop\": \"suicides/100k/pop\"}, inplace=True)\n",
    "df1.head()\n"
   ]
  },
  {
   "cell_type": "code",
   "execution_count": 30,
   "metadata": {},
   "outputs": [],
   "source": [
    "paises = df1.country.unique()\n",
    "generation = df1.generation.unique()\n",
    "rent_per_year = df1.GdpForYear.unique()\n",
    "ages = df1.age.unique()"
   ]
  },
  {
   "cell_type": "code",
   "execution_count": 5,
   "metadata": {},
   "outputs": [],
   "source": [
    "matriz = np.array(df1)"
   ]
  },
  {
   "cell_type": "code",
   "execution_count": 6,
   "metadata": {},
   "outputs": [],
   "source": [
    "max_suicides = np.max(matriz[:, 6])"
   ]
  },
  {
   "cell_type": "markdown",
   "metadata": {},
   "source": [
    "1 - Momento que há mais registros de suicídio a cada 100.000 habitantes:"
   ]
  },
  {
   "cell_type": "code",
   "execution_count": 7,
   "metadata": {
    "scrolled": true
   },
   "outputs": [
    {
     "name": "stdout",
     "output_type": "stream",
     "text": [
      "País: Suriname\n",
      "Ano registrado: 2012\n",
      "Sexo com maior taxa de suicidio: Masculino\n",
      "Média de suicídio a cada 100.000 habitantes: 187.06\n"
     ]
    }
   ],
   "source": [
    "country_max = []\n",
    "\n",
    "for i in range(len(matriz)):\n",
    "    if matriz[i][6] == max_suicides:\n",
    "        country_max.append(matriz[i])\n",
    "\n",
    "    \n",
    "print(f\"País: {country_max[0][0]}\")\n",
    "print(f\"Ano registrado: {country_max[0][1]}\")\n",
    "print(\"Sexo com maior taxa de suicidio: \" + (\"Feminino\" if country_max[0][2] == 'female' else \"Masculino\"))\n",
    "print(f\"Média de suicídio a cada 100.000 habitantes: {country_max[0][6]}\")"
   ]
  },
  {
   "cell_type": "markdown",
   "metadata": {},
   "source": [
    "2 - Quais as taxas medias de suicídio por geração:"
   ]
  },
  {
   "cell_type": "code",
   "execution_count": 8,
   "metadata": {},
   "outputs": [
    {
     "name": "stdout",
     "output_type": "stream",
     "text": [
      "\n",
      "Geração Generation X\n",
      "Taxa média de suicídios a cada 100.000 habitantes: 11.04\n",
      "\n",
      "Geração Silent\n",
      "Taxa média de suicídios a cada 100.000 habitantes: 17.62\n",
      "\n",
      "Geração G.I. Generation\n",
      "Taxa média de suicídios a cada 100.000 habitantes: 24.56\n",
      "\n",
      "Geração Boomers\n",
      "Taxa média de suicídios a cada 100.000 habitantes: 14.40\n",
      "\n",
      "Geração Millenials\n",
      "Taxa média de suicídios a cada 100.000 habitantes: 7.18\n",
      "\n",
      "Geração Generation Z\n",
      "Taxa média de suicídios a cada 100.000 habitantes: 0.64\n"
     ]
    }
   ],
   "source": [
    "a = np.sum(matriz[:,6])\n",
    "\n",
    "for i in range(len(generation)):\n",
    "    x = matriz[(matriz[:,-1] == generation[i])]\n",
    "    print(f\"\\nGeração {generation[i]}\")\n",
    "    print(f\"Taxa média de suicídios a cada 100.000 habitantes: {np.mean(x[:,6]):.2f}\")\n"
   ]
  },
  {
   "cell_type": "markdown",
   "metadata": {},
   "source": [
    "3 - Qual a menor taxa de suicídios por renda:"
   ]
  },
  {
   "cell_type": "code",
   "execution_count": 9,
   "metadata": {},
   "outputs": [
    {
     "name": "stdout",
     "output_type": "stream",
     "text": [
      "\n",
      " A renda do pais Bahrain é igual a: 63,067,077,179\n",
      " E a taxa de suicidio é igual a: 0.84\n"
     ]
    }
   ],
   "source": [
    "b = np.sum(matriz[:,10])\n",
    "\n",
    "for i in range(len(rent_per_year)):\n",
    "    x = matriz[(matriz[:,-3] == rent_per_year.max())]\n",
    "print(f\"\\n A renda do pais {matriz[i,0]} é igual a: {rent_per_year[i]}\")\n",
    "print(f\" E a taxa de suicidio é igual a: {np.min(x[:,6]):.2f}\")"
   ]
  },
  {
   "cell_type": "markdown",
   "metadata": {},
   "source": [
    "4 - De acordo com as faixas etarias, quais sao os numeros de suicidio de todo o estudo:"
   ]
  },
  {
   "cell_type": "code",
   "execution_count": 35,
   "metadata": {},
   "outputs": [
    {
     "name": "stdout",
     "output_type": "stream",
     "text": [
      "A quantidade de suicidios da faixa etaria 25-34 years é igual a: 206299\n",
      "A quantidade de suicidios da faixa etaria 55-74 years é igual a: 271204\n",
      "A quantidade de suicidios da faixa etaria 75+ years é igual a: 612076\n",
      "A quantidade de suicidios da faixa etaria 15-24 years é igual a: 14286\n",
      "A quantidade de suicidios da faixa etaria 35-54 years é igual a: 437782\n",
      "A quantidade de suicidios da faixa etaria 5-14 years é igual a: 182377\n"
     ]
    }
   ],
   "source": [
    "qnt_suicide = [0,0,0,0,0,0]\n",
    "for i in range(len(df1)):\n",
    "    if matriz[i,3] == '5-14 years':\n",
    "        qnt_suicide[3] = qnt_suicide[3] + matriz[i,4]\n",
    "    if matriz[i,3] == '15-24 years':\n",
    "        qnt_suicide[0] = qnt_suicide[0] + matriz[i,4]\n",
    "    if matriz[i,3] == '25-34 years':\n",
    "        qnt_suicide[1] = qnt_suicide[1] + matriz[i,4]\n",
    "    if matriz[i,3] == '35-54 years':\n",
    "        qnt_suicide[2] = qnt_suicide[2] + matriz[i,4]\n",
    "    if matriz[i,3] == '55-74 years':\n",
    "        qnt_suicide[4] = qnt_suicide[4] + matriz[i,4]\n",
    "    if matriz[i,3] == '75+ years':\n",
    "        qnt_suicide[5] = qnt_suicide[5] + matriz[i,4]\n",
    "for i in range(len(ages)):\n",
    "    print(f\"A quantidade de suicidios da faixa etaria {ages[i]} é igual a: {qnt_suicide[i]}\")"
   ]
  },
  {
   "cell_type": "markdown",
   "metadata": {},
   "source": [
    "5 - Qual o sexo que mais tem taxa de suicidios:"
   ]
  },
  {
   "cell_type": "code",
   "execution_count": 56,
   "metadata": {},
   "outputs": [
    {
     "name": "stdout",
     "output_type": "stream",
     "text": [
      " As taxas de suicidio por sexo são: \n",
      " Homem: 1313024\n",
      " Mulher: 411000\n"
     ]
    }
   ],
   "source": [
    "masculino = 0\n",
    "feminino = 0\n",
    "for i in range(len(matriz)):\n",
    "    if matriz[i,2] == 'male':\n",
    "        masculino = masculino + matriz[i, 4]\n",
    "    if matriz[i,2] == 'female':\n",
    "        feminino = feminino + matriz[i, 4]\n",
    "print(f' As taxas de suicidio por sexo são: \\n Homem: {masculino}\\n Mulher: {feminino}')"
   ]
  }
 ],
 "metadata": {
  "accelerator": "GPU",
  "colab": {
   "name": "Trabalho_Dataset.ipynb",
   "provenance": []
  },
  "kernelspec": {
   "display_name": "Python 3",
   "language": "python",
   "name": "python3"
  },
  "language_info": {
   "codemirror_mode": {
    "name": "ipython",
    "version": 3
   },
   "file_extension": ".py",
   "mimetype": "text/x-python",
   "name": "python",
   "nbconvert_exporter": "python",
   "pygments_lexer": "ipython3",
   "version": "3.7.3"
  }
 },
 "nbformat": 4,
 "nbformat_minor": 1
}

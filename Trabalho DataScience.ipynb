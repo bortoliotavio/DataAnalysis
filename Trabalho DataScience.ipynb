{
  "nbformat": 4,
  "nbformat_minor": 0,
  "metadata": {
    "accelerator": "GPU",
    "colab": {
      "name": "Trabalho_Dataset.ipynb",
      "provenance": [],
      "include_colab_link": true
    },
    "kernelspec": {
      "display_name": "Python 3",
      "language": "python",
      "name": "python3"
    },
    "language_info": {
      "codemirror_mode": {
        "name": "ipython",
        "version": 3
      },
      "file_extension": ".py",
      "mimetype": "text/x-python",
      "name": "python",
      "nbconvert_exporter": "python",
      "pygments_lexer": "ipython3",
      "version": "3.7.3"
    }
  },
  "cells": [
    {
      "cell_type": "markdown",
      "metadata": {
        "id": "view-in-github",
        "colab_type": "text"
      },
      "source": [
        "<a href=\"https://colab.research.google.com/github/bortoliotavio/DataAnalysis/blob/master/Trabalho%20DataScience.ipynb\" target=\"_parent\"><img src=\"https://colab.research.google.com/assets/colab-badge.svg\" alt=\"Open In Colab\"/></a>"
      ]
    },
    {
      "cell_type": "markdown",
      "metadata": {
        "colab_type": "text",
        "id": "Sg87mtPFCtTK"
      },
      "source": [
        "Trabalho de data science.\n",
        "Alunos: Otávio Theodoro de Bortoli Villela Santos e Willian Nascimento Lovato"
      ]
    },
    {
      "cell_type": "code",
      "metadata": {
        "colab_type": "code",
        "id": "g937sFioJ6fV",
        "colab": {}
      },
      "source": [
        "import matplotlib.pyplot as plt\n",
        "import pandas as pd\n",
        "import numpy as np"
      ],
      "execution_count": 0,
      "outputs": []
    },
    {
      "cell_type": "code",
      "metadata": {
        "colab_type": "code",
        "id": "xtuKAXh5OhWV",
        "colab": {
          "base_uri": "https://localhost:8080/",
          "height": 306
        },
        "outputId": "6bfd1077-6f9e-45f4-9ab4-ecd3b822d037"
      },
      "source": [
        "#df1=pd.read_csv('data.csv')\n",
        "df1 = pd.read_csv('https://raw.githubusercontent.com/bortoliotavio/DataAnalysis/master/data.csv')\n",
        "df1.info()"
      ],
      "execution_count": 3,
      "outputs": [
        {
          "output_type": "stream",
          "text": [
            "<class 'pandas.core.frame.DataFrame'>\n",
            "RangeIndex: 27820 entries, 0 to 27819\n",
            "Data columns (total 12 columns):\n",
            "country               27820 non-null object\n",
            "year                  27820 non-null int64\n",
            "sex                   27820 non-null object\n",
            "age                   27820 non-null object\n",
            "suicides_no           27820 non-null int64\n",
            "population            27820 non-null int64\n",
            "suicides/100k pop     27820 non-null float64\n",
            "country-year          27820 non-null object\n",
            "HDI for year          8364 non-null float64\n",
            " gdp_for_year ($)     27820 non-null object\n",
            "gdp_per_capita ($)    27820 non-null int64\n",
            "generation            27820 non-null object\n",
            "dtypes: float64(2), int64(4), object(6)\n",
            "memory usage: 2.5+ MB\n"
          ],
          "name": "stdout"
        }
      ]
    },
    {
      "cell_type": "code",
      "metadata": {
        "id": "rUrXkdQ55_CZ",
        "colab_type": "code",
        "colab": {
          "base_uri": "https://localhost:8080/",
          "height": 297
        },
        "outputId": "8a7b67a0-c824-4500-d763-afbe2d53abff"
      },
      "source": [
        "df1.describe()"
      ],
      "execution_count": 4,
      "outputs": [
        {
          "output_type": "execute_result",
          "data": {
            "text/html": [
              "<div>\n",
              "<style scoped>\n",
              "    .dataframe tbody tr th:only-of-type {\n",
              "        vertical-align: middle;\n",
              "    }\n",
              "\n",
              "    .dataframe tbody tr th {\n",
              "        vertical-align: top;\n",
              "    }\n",
              "\n",
              "    .dataframe thead th {\n",
              "        text-align: right;\n",
              "    }\n",
              "</style>\n",
              "<table border=\"1\" class=\"dataframe\">\n",
              "  <thead>\n",
              "    <tr style=\"text-align: right;\">\n",
              "      <th></th>\n",
              "      <th>year</th>\n",
              "      <th>suicides_no</th>\n",
              "      <th>population</th>\n",
              "      <th>suicides/100k pop</th>\n",
              "      <th>HDI for year</th>\n",
              "      <th>gdp_per_capita ($)</th>\n",
              "    </tr>\n",
              "  </thead>\n",
              "  <tbody>\n",
              "    <tr>\n",
              "      <th>count</th>\n",
              "      <td>27820.000000</td>\n",
              "      <td>27820.000000</td>\n",
              "      <td>2.782000e+04</td>\n",
              "      <td>27820.000000</td>\n",
              "      <td>8364.000000</td>\n",
              "      <td>27820.000000</td>\n",
              "    </tr>\n",
              "    <tr>\n",
              "      <th>mean</th>\n",
              "      <td>2001.258375</td>\n",
              "      <td>242.574407</td>\n",
              "      <td>1.844794e+06</td>\n",
              "      <td>12.816097</td>\n",
              "      <td>0.776601</td>\n",
              "      <td>16866.464414</td>\n",
              "    </tr>\n",
              "    <tr>\n",
              "      <th>std</th>\n",
              "      <td>8.469055</td>\n",
              "      <td>902.047917</td>\n",
              "      <td>3.911779e+06</td>\n",
              "      <td>18.961511</td>\n",
              "      <td>0.093367</td>\n",
              "      <td>18887.576472</td>\n",
              "    </tr>\n",
              "    <tr>\n",
              "      <th>min</th>\n",
              "      <td>1985.000000</td>\n",
              "      <td>0.000000</td>\n",
              "      <td>2.780000e+02</td>\n",
              "      <td>0.000000</td>\n",
              "      <td>0.483000</td>\n",
              "      <td>251.000000</td>\n",
              "    </tr>\n",
              "    <tr>\n",
              "      <th>25%</th>\n",
              "      <td>1995.000000</td>\n",
              "      <td>3.000000</td>\n",
              "      <td>9.749850e+04</td>\n",
              "      <td>0.920000</td>\n",
              "      <td>0.713000</td>\n",
              "      <td>3447.000000</td>\n",
              "    </tr>\n",
              "    <tr>\n",
              "      <th>50%</th>\n",
              "      <td>2002.000000</td>\n",
              "      <td>25.000000</td>\n",
              "      <td>4.301500e+05</td>\n",
              "      <td>5.990000</td>\n",
              "      <td>0.779000</td>\n",
              "      <td>9372.000000</td>\n",
              "    </tr>\n",
              "    <tr>\n",
              "      <th>75%</th>\n",
              "      <td>2008.000000</td>\n",
              "      <td>131.000000</td>\n",
              "      <td>1.486143e+06</td>\n",
              "      <td>16.620000</td>\n",
              "      <td>0.855000</td>\n",
              "      <td>24874.000000</td>\n",
              "    </tr>\n",
              "    <tr>\n",
              "      <th>max</th>\n",
              "      <td>2016.000000</td>\n",
              "      <td>22338.000000</td>\n",
              "      <td>4.380521e+07</td>\n",
              "      <td>224.970000</td>\n",
              "      <td>0.944000</td>\n",
              "      <td>126352.000000</td>\n",
              "    </tr>\n",
              "  </tbody>\n",
              "</table>\n",
              "</div>"
            ],
            "text/plain": [
              "               year   suicides_no  ...  HDI for year  gdp_per_capita ($)\n",
              "count  27820.000000  27820.000000  ...   8364.000000        27820.000000\n",
              "mean    2001.258375    242.574407  ...      0.776601        16866.464414\n",
              "std        8.469055    902.047917  ...      0.093367        18887.576472\n",
              "min     1985.000000      0.000000  ...      0.483000          251.000000\n",
              "25%     1995.000000      3.000000  ...      0.713000         3447.000000\n",
              "50%     2002.000000     25.000000  ...      0.779000         9372.000000\n",
              "75%     2008.000000    131.000000  ...      0.855000        24874.000000\n",
              "max     2016.000000  22338.000000  ...      0.944000       126352.000000\n",
              "\n",
              "[8 rows x 6 columns]"
            ]
          },
          "metadata": {
            "tags": []
          },
          "execution_count": 4
        }
      ]
    },
    {
      "cell_type": "markdown",
      "metadata": {
        "colab_type": "text",
        "id": "bW3CuxvuXH9r"
      },
      "source": [
        "Verificando quantidade de valores nulos."
      ]
    },
    {
      "cell_type": "code",
      "metadata": {
        "colab_type": "code",
        "id": "jB7TDDWSFupL",
        "outputId": "48747f94-3e24-4bd1-e9c9-1fef49b9250f",
        "colab": {
          "base_uri": "https://localhost:8080/",
          "height": 204
        }
      },
      "source": [
        "df1.shape\n",
        "df1 = df1.dropna()\n",
        "df1.rename(columns={\" gdp_for_year ($) \": \"GdpForYear\", \"gdp_per_capita ($)\": \"GdpPerCapita\", \"suicides/100k pop\": \"suicides/100k/pop\"}, inplace=True)\n",
        "df1.head()"
      ],
      "execution_count": 5,
      "outputs": [
        {
          "output_type": "execute_result",
          "data": {
            "text/html": [
              "<div>\n",
              "<style scoped>\n",
              "    .dataframe tbody tr th:only-of-type {\n",
              "        vertical-align: middle;\n",
              "    }\n",
              "\n",
              "    .dataframe tbody tr th {\n",
              "        vertical-align: top;\n",
              "    }\n",
              "\n",
              "    .dataframe thead th {\n",
              "        text-align: right;\n",
              "    }\n",
              "</style>\n",
              "<table border=\"1\" class=\"dataframe\">\n",
              "  <thead>\n",
              "    <tr style=\"text-align: right;\">\n",
              "      <th></th>\n",
              "      <th>country</th>\n",
              "      <th>year</th>\n",
              "      <th>sex</th>\n",
              "      <th>age</th>\n",
              "      <th>suicides_no</th>\n",
              "      <th>population</th>\n",
              "      <th>suicides/100k/pop</th>\n",
              "      <th>country-year</th>\n",
              "      <th>HDI for year</th>\n",
              "      <th>GdpForYear</th>\n",
              "      <th>GdpPerCapita</th>\n",
              "      <th>generation</th>\n",
              "    </tr>\n",
              "  </thead>\n",
              "  <tbody>\n",
              "    <tr>\n",
              "      <th>72</th>\n",
              "      <td>Albania</td>\n",
              "      <td>1995</td>\n",
              "      <td>male</td>\n",
              "      <td>25-34 years</td>\n",
              "      <td>13</td>\n",
              "      <td>232900</td>\n",
              "      <td>5.58</td>\n",
              "      <td>Albania1995</td>\n",
              "      <td>0.619</td>\n",
              "      <td>2,424,499,009</td>\n",
              "      <td>835</td>\n",
              "      <td>Generation X</td>\n",
              "    </tr>\n",
              "    <tr>\n",
              "      <th>73</th>\n",
              "      <td>Albania</td>\n",
              "      <td>1995</td>\n",
              "      <td>male</td>\n",
              "      <td>55-74 years</td>\n",
              "      <td>9</td>\n",
              "      <td>178000</td>\n",
              "      <td>5.06</td>\n",
              "      <td>Albania1995</td>\n",
              "      <td>0.619</td>\n",
              "      <td>2,424,499,009</td>\n",
              "      <td>835</td>\n",
              "      <td>Silent</td>\n",
              "    </tr>\n",
              "    <tr>\n",
              "      <th>74</th>\n",
              "      <td>Albania</td>\n",
              "      <td>1995</td>\n",
              "      <td>female</td>\n",
              "      <td>75+ years</td>\n",
              "      <td>2</td>\n",
              "      <td>40800</td>\n",
              "      <td>4.90</td>\n",
              "      <td>Albania1995</td>\n",
              "      <td>0.619</td>\n",
              "      <td>2,424,499,009</td>\n",
              "      <td>835</td>\n",
              "      <td>G.I. Generation</td>\n",
              "    </tr>\n",
              "    <tr>\n",
              "      <th>75</th>\n",
              "      <td>Albania</td>\n",
              "      <td>1995</td>\n",
              "      <td>female</td>\n",
              "      <td>15-24 years</td>\n",
              "      <td>13</td>\n",
              "      <td>283500</td>\n",
              "      <td>4.59</td>\n",
              "      <td>Albania1995</td>\n",
              "      <td>0.619</td>\n",
              "      <td>2,424,499,009</td>\n",
              "      <td>835</td>\n",
              "      <td>Generation X</td>\n",
              "    </tr>\n",
              "    <tr>\n",
              "      <th>76</th>\n",
              "      <td>Albania</td>\n",
              "      <td>1995</td>\n",
              "      <td>male</td>\n",
              "      <td>15-24 years</td>\n",
              "      <td>11</td>\n",
              "      <td>241200</td>\n",
              "      <td>4.56</td>\n",
              "      <td>Albania1995</td>\n",
              "      <td>0.619</td>\n",
              "      <td>2,424,499,009</td>\n",
              "      <td>835</td>\n",
              "      <td>Generation X</td>\n",
              "    </tr>\n",
              "  </tbody>\n",
              "</table>\n",
              "</div>"
            ],
            "text/plain": [
              "    country  year     sex  ...     GdpForYear  GdpPerCapita       generation\n",
              "72  Albania  1995    male  ...  2,424,499,009           835     Generation X\n",
              "73  Albania  1995    male  ...  2,424,499,009           835           Silent\n",
              "74  Albania  1995  female  ...  2,424,499,009           835  G.I. Generation\n",
              "75  Albania  1995  female  ...  2,424,499,009           835     Generation X\n",
              "76  Albania  1995    male  ...  2,424,499,009           835     Generation X\n",
              "\n",
              "[5 rows x 12 columns]"
            ]
          },
          "metadata": {
            "tags": []
          },
          "execution_count": 5
        }
      ]
    },
    {
      "cell_type": "code",
      "metadata": {
        "id": "1Icc10co5_Cd",
        "colab_type": "code",
        "colab": {}
      },
      "source": [
        "paises = df1.country.unique()\n",
        "generation = df1.generation.unique()\n",
        "rent_per_year = df1.GdpForYear.unique()\n",
        "ages = df1.age.unique()"
      ],
      "execution_count": 0,
      "outputs": []
    },
    {
      "cell_type": "code",
      "metadata": {
        "id": "dYDiVhWL5_Cf",
        "colab_type": "code",
        "colab": {}
      },
      "source": [
        "matriz = np.array(df1)\n",
        "array_paises = np.array(paises)\n"
      ],
      "execution_count": 0,
      "outputs": []
    },
    {
      "cell_type": "code",
      "metadata": {
        "id": "_sZAwGsV5_Ci",
        "colab_type": "code",
        "colab": {}
      },
      "source": [
        "max_suicides = np.max(matriz[:, 6])"
      ],
      "execution_count": 0,
      "outputs": []
    },
    {
      "cell_type": "markdown",
      "metadata": {
        "id": "FsnsN2KS5_Cj",
        "colab_type": "text"
      },
      "source": [
        "1 - Momento que há mais registros de suicídio a cada 100.000 habitantes:"
      ]
    },
    {
      "cell_type": "code",
      "metadata": {
        "scrolled": true,
        "id": "hxIa8rP15_Ck",
        "colab_type": "code",
        "colab": {
          "base_uri": "https://localhost:8080/",
          "height": 85
        },
        "outputId": "820214c3-41e2-4346-bd94-430929bb0be3"
      },
      "source": [
        "country_max = []\n",
        "\n",
        "for i in range(len(matriz)):\n",
        "    if matriz[i][6] == max_suicides:\n",
        "        country_max.append(matriz[i])\n",
        "\n",
        "    \n",
        "print(f\"País: {country_max[0][0]}\")\n",
        "print(f\"Ano registrado: {country_max[0][1]}\")\n",
        "print(\"Sexo com maior taxa de suicidio: \" + (\"Feminino\" if country_max[0][2] == 'female' else \"Masculino\"))\n",
        "print(f\"Média de suicídio a cada 100.000 habitantes: {country_max[0][6]}\")"
      ],
      "execution_count": 9,
      "outputs": [
        {
          "output_type": "stream",
          "text": [
            "País: Suriname\n",
            "Ano registrado: 2012\n",
            "Sexo com maior taxa de suicidio: Masculino\n",
            "Média de suicídio a cada 100.000 habitantes: 187.06\n"
          ],
          "name": "stdout"
        }
      ]
    },
    {
      "cell_type": "markdown",
      "metadata": {
        "id": "4_F8ulJ55_Cl",
        "colab_type": "text"
      },
      "source": [
        "2 - Quais as taxas medias de suicídio por geração:"
      ]
    },
    {
      "cell_type": "code",
      "metadata": {
        "id": "firYatFZ5_Cm",
        "colab_type": "code",
        "colab": {
          "base_uri": "https://localhost:8080/",
          "height": 323
        },
        "outputId": "73185f8f-7f17-445a-b696-5de394eed68e"
      },
      "source": [
        "a = np.sum(matriz[:,6])\n",
        "\n",
        "for i in range(len(generation)):\n",
        "    x = matriz[(matriz[:,-1] == generation[i])]\n",
        "    print(f\"\\nGeração {generation[i]}\")\n",
        "    print(f\"Taxa média de suicídios a cada 100.000 habitantes: {np.mean(x[:,6]):.2f}\")\n"
      ],
      "execution_count": 10,
      "outputs": [
        {
          "output_type": "stream",
          "text": [
            "\n",
            "Geração Generation X\n",
            "Taxa média de suicídios a cada 100.000 habitantes: 11.04\n",
            "\n",
            "Geração Silent\n",
            "Taxa média de suicídios a cada 100.000 habitantes: 17.62\n",
            "\n",
            "Geração G.I. Generation\n",
            "Taxa média de suicídios a cada 100.000 habitantes: 24.56\n",
            "\n",
            "Geração Boomers\n",
            "Taxa média de suicídios a cada 100.000 habitantes: 14.40\n",
            "\n",
            "Geração Millenials\n",
            "Taxa média de suicídios a cada 100.000 habitantes: 7.18\n",
            "\n",
            "Geração Generation Z\n",
            "Taxa média de suicídios a cada 100.000 habitantes: 0.64\n"
          ],
          "name": "stdout"
        }
      ]
    },
    {
      "cell_type": "markdown",
      "metadata": {
        "id": "UcoviE0K5_Co",
        "colab_type": "text"
      },
      "source": [
        "3 - Qual a menor taxa de suicídios por renda:"
      ]
    },
    {
      "cell_type": "code",
      "metadata": {
        "id": "CqbXYFrW5_Co",
        "colab_type": "code",
        "colab": {
          "base_uri": "https://localhost:8080/",
          "height": 68
        },
        "outputId": "6aeee569-d051-4ec7-d06b-0f7d6a64d4d9"
      },
      "source": [
        "b = np.sum(matriz[:,10])\n",
        "\n",
        "for i in range(len(rent_per_year)):\n",
        "    x = matriz[(matriz[:,-3] == rent_per_year.max())]\n",
        "print(f\"\\n A renda do pais {matriz[i,0]} é igual a: {rent_per_year[i]}\")\n",
        "print(f\" E a taxa de suicidio é igual a: {np.min(x[:,6]):.2f}\")"
      ],
      "execution_count": 11,
      "outputs": [
        {
          "output_type": "stream",
          "text": [
            "\n",
            " A renda do pais Bahrain é igual a: 63,067,077,179\n",
            " E a taxa de suicidio é igual a: 0.84\n"
          ],
          "name": "stdout"
        }
      ]
    },
    {
      "cell_type": "markdown",
      "metadata": {
        "id": "9pNPOb0C5_Cq",
        "colab_type": "text"
      },
      "source": [
        "4 - De acordo com as faixas etarias, quais sao os numeros de suicidio de todo o estudo:"
      ]
    },
    {
      "cell_type": "code",
      "metadata": {
        "id": "f6pNiZUw5_Cq",
        "colab_type": "code",
        "colab": {
          "base_uri": "https://localhost:8080/",
          "height": 119
        },
        "outputId": "9387abec-ea03-4202-d873-f37576d9b22d"
      },
      "source": [
        "qnt_suicide = [0,0,0,0,0,0]\n",
        "for i in range(len(df1)):\n",
        "    if matriz[i,3] == '5-14 years':\n",
        "        qnt_suicide[3] = qnt_suicide[3] + matriz[i,4]\n",
        "    if matriz[i,3] == '15-24 years':\n",
        "        qnt_suicide[0] = qnt_suicide[0] + matriz[i,4]\n",
        "    if matriz[i,3] == '25-34 years':\n",
        "        qnt_suicide[1] = qnt_suicide[1] + matriz[i,4]\n",
        "    if matriz[i,3] == '35-54 years':\n",
        "        qnt_suicide[2] = qnt_suicide[2] + matriz[i,4]\n",
        "    if matriz[i,3] == '55-74 years':\n",
        "        qnt_suicide[4] = qnt_suicide[4] + matriz[i,4]\n",
        "    if matriz[i,3] == '75+ years':\n",
        "        qnt_suicide[5] = qnt_suicide[5] + matriz[i,4]\n",
        "for i in range(len(ages)):\n",
        "    print(f\"A quantidade de suicidios da faixa etaria {ages[i]} é igual a: {qnt_suicide[i]}\")"
      ],
      "execution_count": 12,
      "outputs": [
        {
          "output_type": "stream",
          "text": [
            "A quantidade de suicidios da faixa etaria 25-34 years é igual a: 206299\n",
            "A quantidade de suicidios da faixa etaria 55-74 years é igual a: 271204\n",
            "A quantidade de suicidios da faixa etaria 75+ years é igual a: 612076\n",
            "A quantidade de suicidios da faixa etaria 15-24 years é igual a: 14286\n",
            "A quantidade de suicidios da faixa etaria 35-54 years é igual a: 437782\n",
            "A quantidade de suicidios da faixa etaria 5-14 years é igual a: 182377\n"
          ],
          "name": "stdout"
        }
      ]
    },
    {
      "cell_type": "markdown",
      "metadata": {
        "id": "bCN-g90b5_Cs",
        "colab_type": "text"
      },
      "source": [
        "5 - Qual o pais que mais tem apariçoes no estudo:"
      ]
    },
    {
      "cell_type": "code",
      "metadata": {
        "id": "KOETc_Rx5_Cs",
        "colab_type": "code",
        "colab": {
          "base_uri": "https://localhost:8080/",
          "height": 231
        },
        "outputId": "e428c2fa-34c5-41c6-8c16-f1d8102dc986"
      },
      "source": [
        "pais = str()\n",
        "pais2 = str()\n",
        "quantidade = int()\n",
        "count = 0\n",
        "contagem_paises = 0\n",
        "contagem2 = 0\n",
        "i = 0\n",
        "while count < len(matriz):\n",
        "  pais = array_paises[i]\n",
        "  if pais == matriz[count, 0]:\n",
        "    contagem_paises += 1\n",
        "    count += 1\n",
        "  else:\n",
        "    if contagem_paises < contagem2:\n",
        "      i += 1\n",
        "      contagem2 = contagem_paises\n",
        "      pais2 = pais\n",
        "      pais = paises[i]\n",
        "print(f'{contagem2}' + '\\n' + f'{pais}')"
      ],
      "execution_count": 23,
      "outputs": [
        {
          "output_type": "error",
          "ename": "KeyboardInterrupt",
          "evalue": "ignored",
          "traceback": [
            "\u001b[0;31m---------------------------------------------------------------------------\u001b[0m",
            "\u001b[0;31mKeyboardInterrupt\u001b[0m                         Traceback (most recent call last)",
            "\u001b[0;32m<ipython-input-23-8df23098b107>\u001b[0m in \u001b[0;36m<module>\u001b[0;34m()\u001b[0m\n\u001b[1;32m      8\u001b[0m   \u001b[0mi\u001b[0m\u001b[0;34m=\u001b[0m\u001b[0;36m0\u001b[0m\u001b[0;34m\u001b[0m\u001b[0;34m\u001b[0m\u001b[0m\n\u001b[1;32m      9\u001b[0m   \u001b[0mpais\u001b[0m \u001b[0;34m=\u001b[0m \u001b[0marray_paises\u001b[0m\u001b[0;34m[\u001b[0m\u001b[0mi\u001b[0m\u001b[0;34m]\u001b[0m\u001b[0;34m\u001b[0m\u001b[0;34m\u001b[0m\u001b[0m\n\u001b[0;32m---> 10\u001b[0;31m   \u001b[0;32mif\u001b[0m \u001b[0mpais\u001b[0m \u001b[0;34m==\u001b[0m \u001b[0mmatriz\u001b[0m\u001b[0;34m[\u001b[0m\u001b[0mcount\u001b[0m\u001b[0;34m,\u001b[0m \u001b[0;36m0\u001b[0m\u001b[0;34m]\u001b[0m\u001b[0;34m:\u001b[0m\u001b[0;34m\u001b[0m\u001b[0;34m\u001b[0m\u001b[0m\n\u001b[0m\u001b[1;32m     11\u001b[0m     \u001b[0mcontagem_paises\u001b[0m \u001b[0;34m+=\u001b[0m \u001b[0;36m1\u001b[0m\u001b[0;34m\u001b[0m\u001b[0;34m\u001b[0m\u001b[0m\n\u001b[1;32m     12\u001b[0m     \u001b[0mcount\u001b[0m \u001b[0;34m+=\u001b[0m \u001b[0;36m1\u001b[0m\u001b[0;34m\u001b[0m\u001b[0;34m\u001b[0m\u001b[0m\n",
            "\u001b[0;31mKeyboardInterrupt\u001b[0m: "
          ]
        }
      ]
    }
  ]
}
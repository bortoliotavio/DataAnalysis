{
 "cells": [
  {
   "cell_type": "markdown",
   "metadata": {
    "colab_type": "text",
    "id": "Sg87mtPFCtTK"
   },
   "source": [
    "Trabalho de data science.\n",
    "Alunos: Otávio Theodoro de Bortoli Villela Santos e Willian Nascimento Lovato"
   ]
  },
  {
   "cell_type": "code",
   "execution_count": 3,
   "metadata": {
    "colab": {
     "base_uri": "https://localhost:8080/",
     "height": 122
    },
    "colab_type": "code",
    "id": "g937sFioJ6fV",
    "outputId": "f7321d65-e279-42f0-de65-7c8cef50078d"
   },
   "outputs": [],
   "source": [
    "import matplotlib.pyplot as plt\n",
    "import pandas as pd\n",
    "import numpy as np\n"
   ]
  },
  {
   "cell_type": "code",
   "execution_count": 7,
   "metadata": {
    "colab": {},
    "colab_type": "code",
    "id": "xtuKAXh5OhWV"
   },
   "outputs": [],
   "source": [
    "df1=pd.read_csv('data.csv')"
   ]
  },
  {
   "cell_type": "markdown",
   "metadata": {
    "colab_type": "text",
    "id": "bW3CuxvuXH9r"
   },
   "source": [
    "Verificando quantidade de valores nulos."
   ]
  },
  {
   "cell_type": "code",
   "execution_count": 93,
   "metadata": {
    "colab": {
     "base_uri": "https://localhost:8080/",
     "height": 272
    },
    "colab_type": "code",
    "id": "jB7TDDWSFupL",
    "outputId": "a4b36188-76df-4aef-8e30-e223b5f136af"
   },
   "outputs": [
    {
     "data": {
      "text/plain": [
       "<bound method NDFrame.head of           country  year     sex          age  suicides_no  population  \\\n",
       "72        Albania  1995    male  25-34 years           13      232900   \n",
       "73        Albania  1995    male  55-74 years            9      178000   \n",
       "74        Albania  1995  female    75+ years            2       40800   \n",
       "75        Albania  1995  female  15-24 years           13      283500   \n",
       "76        Albania  1995    male  15-24 years           11      241200   \n",
       "77        Albania  1995    male    75+ years            1       25100   \n",
       "78        Albania  1995    male  35-54 years           14      375900   \n",
       "79        Albania  1995  female  25-34 years            7      264000   \n",
       "80        Albania  1995  female  35-54 years            8      356400   \n",
       "81        Albania  1995    male   5-14 years            6      376500   \n",
       "82        Albania  1995  female  55-74 years            2      180400   \n",
       "83        Albania  1995  female   5-14 years            2      348700   \n",
       "132       Albania  2000    male  25-34 years           17      232000   \n",
       "133       Albania  2000    male  55-74 years           10      177400   \n",
       "134       Albania  2000  female    75+ years            2       37800   \n",
       "135       Albania  2000    male    75+ years            1       24900   \n",
       "136       Albania  2000  female  15-24 years            6      263900   \n",
       "137       Albania  2000    male  15-24 years            5      240000   \n",
       "138       Albania  2000  female  35-54 years            5      332200   \n",
       "139       Albania  2000  female  25-34 years            3      245800   \n",
       "140       Albania  2000    male  35-54 years            4      374700   \n",
       "141       Albania  2000    male   5-14 years            1      374900   \n",
       "142       Albania  2000  female   5-14 years            0      324700   \n",
       "143       Albania  2000  female  55-74 years            0      168000   \n",
       "192       Albania  2005  female  15-24 years            0      281922   \n",
       "193       Albania  2005  female  25-34 years            0      190745   \n",
       "194       Albania  2005  female  35-54 years            0      386513   \n",
       "195       Albania  2005  female   5-14 years            0      276559   \n",
       "196       Albania  2005  female  55-74 years            0      210998   \n",
       "197       Albania  2005  female    75+ years            0       53191   \n",
       "...           ...   ...     ...          ...          ...         ...   \n",
       "27790  Uzbekistan  2012  female  25-34 years          148     2556673   \n",
       "27791  Uzbekistan  2012  female  35-54 years           89     3474788   \n",
       "27792  Uzbekistan  2012    male   5-14 years           67     2701361   \n",
       "27793  Uzbekistan  2012  female  55-74 years           25     1283060   \n",
       "27794  Uzbekistan  2012  female    75+ years            4      338557   \n",
       "27795  Uzbekistan  2012  female   5-14 years           16     2578408   \n",
       "27796  Uzbekistan  2013    male  35-54 years          481     3346411   \n",
       "27797  Uzbekistan  2013    male  25-34 years          328     2644648   \n",
       "27798  Uzbekistan  2013  female  15-24 years          323     3039740   \n",
       "27799  Uzbekistan  2013    male  15-24 years          320     3171202   \n",
       "27800  Uzbekistan  2013    male  55-74 years          119     1202790   \n",
       "27801  Uzbekistan  2013    male    75+ years           13      221002   \n",
       "27802  Uzbekistan  2013  female  25-34 years          146     2647820   \n",
       "27803  Uzbekistan  2013  female  35-54 years           99     3547895   \n",
       "27804  Uzbekistan  2013  female    75+ years            8      345180   \n",
       "27805  Uzbekistan  2013    male   5-14 years           61     2720938   \n",
       "27806  Uzbekistan  2013  female  55-74 years           21     1356298   \n",
       "27807  Uzbekistan  2013  female   5-14 years           31     2595000   \n",
       "27808  Uzbekistan  2014    male  35-54 years          519     3421300   \n",
       "27809  Uzbekistan  2014    male  25-34 years          318     2739150   \n",
       "27810  Uzbekistan  2014  female  15-24 years          347     2992817   \n",
       "27811  Uzbekistan  2014    male  55-74 years          144     1271111   \n",
       "27812  Uzbekistan  2014    male  15-24 years          347     3126905   \n",
       "27813  Uzbekistan  2014    male    75+ years           17      224995   \n",
       "27814  Uzbekistan  2014  female  25-34 years          162     2735238   \n",
       "27815  Uzbekistan  2014  female  35-54 years          107     3620833   \n",
       "27816  Uzbekistan  2014  female    75+ years            9      348465   \n",
       "27817  Uzbekistan  2014    male   5-14 years           60     2762158   \n",
       "27818  Uzbekistan  2014  female   5-14 years           44     2631600   \n",
       "27819  Uzbekistan  2014  female  55-74 years           21     1438935   \n",
       "\n",
       "       suicides/100k pop    country-year  HDI for year  gdp_for_year ($)   \\\n",
       "72                  5.58     Albania1995         0.619      2,424,499,009   \n",
       "73                  5.06     Albania1995         0.619      2,424,499,009   \n",
       "74                  4.90     Albania1995         0.619      2,424,499,009   \n",
       "75                  4.59     Albania1995         0.619      2,424,499,009   \n",
       "76                  4.56     Albania1995         0.619      2,424,499,009   \n",
       "77                  3.98     Albania1995         0.619      2,424,499,009   \n",
       "78                  3.72     Albania1995         0.619      2,424,499,009   \n",
       "79                  2.65     Albania1995         0.619      2,424,499,009   \n",
       "80                  2.24     Albania1995         0.619      2,424,499,009   \n",
       "81                  1.59     Albania1995         0.619      2,424,499,009   \n",
       "82                  1.11     Albania1995         0.619      2,424,499,009   \n",
       "83                  0.57     Albania1995         0.619      2,424,499,009   \n",
       "132                 7.33     Albania2000         0.656      3,632,043,908   \n",
       "133                 5.64     Albania2000         0.656      3,632,043,908   \n",
       "134                 5.29     Albania2000         0.656      3,632,043,908   \n",
       "135                 4.02     Albania2000         0.656      3,632,043,908   \n",
       "136                 2.27     Albania2000         0.656      3,632,043,908   \n",
       "137                 2.08     Albania2000         0.656      3,632,043,908   \n",
       "138                 1.51     Albania2000         0.656      3,632,043,908   \n",
       "139                 1.22     Albania2000         0.656      3,632,043,908   \n",
       "140                 1.07     Albania2000         0.656      3,632,043,908   \n",
       "141                 0.27     Albania2000         0.656      3,632,043,908   \n",
       "142                 0.00     Albania2000         0.656      3,632,043,908   \n",
       "143                 0.00     Albania2000         0.656      3,632,043,908   \n",
       "192                 0.00     Albania2005         0.695      8,158,548,717   \n",
       "193                 0.00     Albania2005         0.695      8,158,548,717   \n",
       "194                 0.00     Albania2005         0.695      8,158,548,717   \n",
       "195                 0.00     Albania2005         0.695      8,158,548,717   \n",
       "196                 0.00     Albania2005         0.695      8,158,548,717   \n",
       "197                 0.00     Albania2005         0.695      8,158,548,717   \n",
       "...                  ...             ...           ...                ...   \n",
       "27790               5.79  Uzbekistan2012         0.668     51,821,573,338   \n",
       "27791               2.56  Uzbekistan2012         0.668     51,821,573,338   \n",
       "27792               2.48  Uzbekistan2012         0.668     51,821,573,338   \n",
       "27793               1.95  Uzbekistan2012         0.668     51,821,573,338   \n",
       "27794               1.18  Uzbekistan2012         0.668     51,821,573,338   \n",
       "27795               0.62  Uzbekistan2012         0.668     51,821,573,338   \n",
       "27796              14.37  Uzbekistan2013         0.672     57,690,453,461   \n",
       "27797              12.40  Uzbekistan2013         0.672     57,690,453,461   \n",
       "27798              10.63  Uzbekistan2013         0.672     57,690,453,461   \n",
       "27799              10.09  Uzbekistan2013         0.672     57,690,453,461   \n",
       "27800               9.89  Uzbekistan2013         0.672     57,690,453,461   \n",
       "27801               5.88  Uzbekistan2013         0.672     57,690,453,461   \n",
       "27802               5.51  Uzbekistan2013         0.672     57,690,453,461   \n",
       "27803               2.79  Uzbekistan2013         0.672     57,690,453,461   \n",
       "27804               2.32  Uzbekistan2013         0.672     57,690,453,461   \n",
       "27805               2.24  Uzbekistan2013         0.672     57,690,453,461   \n",
       "27806               1.55  Uzbekistan2013         0.672     57,690,453,461   \n",
       "27807               1.19  Uzbekistan2013         0.672     57,690,453,461   \n",
       "27808              15.17  Uzbekistan2014         0.675     63,067,077,179   \n",
       "27809              11.61  Uzbekistan2014         0.675     63,067,077,179   \n",
       "27810              11.59  Uzbekistan2014         0.675     63,067,077,179   \n",
       "27811              11.33  Uzbekistan2014         0.675     63,067,077,179   \n",
       "27812              11.10  Uzbekistan2014         0.675     63,067,077,179   \n",
       "27813               7.56  Uzbekistan2014         0.675     63,067,077,179   \n",
       "27814               5.92  Uzbekistan2014         0.675     63,067,077,179   \n",
       "27815               2.96  Uzbekistan2014         0.675     63,067,077,179   \n",
       "27816               2.58  Uzbekistan2014         0.675     63,067,077,179   \n",
       "27817               2.17  Uzbekistan2014         0.675     63,067,077,179   \n",
       "27818               1.67  Uzbekistan2014         0.675     63,067,077,179   \n",
       "27819               1.46  Uzbekistan2014         0.675     63,067,077,179   \n",
       "\n",
       "       gdp_per_capita ($)       generation  \n",
       "72                    835     Generation X  \n",
       "73                    835           Silent  \n",
       "74                    835  G.I. Generation  \n",
       "75                    835     Generation X  \n",
       "76                    835     Generation X  \n",
       "77                    835  G.I. Generation  \n",
       "78                    835          Boomers  \n",
       "79                    835     Generation X  \n",
       "80                    835          Boomers  \n",
       "81                    835       Millenials  \n",
       "82                    835           Silent  \n",
       "83                    835       Millenials  \n",
       "132                  1299     Generation X  \n",
       "133                  1299           Silent  \n",
       "134                  1299  G.I. Generation  \n",
       "135                  1299  G.I. Generation  \n",
       "136                  1299     Generation X  \n",
       "137                  1299     Generation X  \n",
       "138                  1299          Boomers  \n",
       "139                  1299     Generation X  \n",
       "140                  1299          Boomers  \n",
       "141                  1299       Millenials  \n",
       "142                  1299       Millenials  \n",
       "143                  1299           Silent  \n",
       "192                  2931       Millenials  \n",
       "193                  2931     Generation X  \n",
       "194                  2931          Boomers  \n",
       "195                  2931       Millenials  \n",
       "196                  2931           Silent  \n",
       "197                  2931           Silent  \n",
       "...                   ...              ...  \n",
       "27790                1964       Millenials  \n",
       "27791                1964     Generation X  \n",
       "27792                1964     Generation Z  \n",
       "27793                1964          Boomers  \n",
       "27794                1964           Silent  \n",
       "27795                1964     Generation Z  \n",
       "27796                2150     Generation X  \n",
       "27797                2150       Millenials  \n",
       "27798                2150       Millenials  \n",
       "27799                2150       Millenials  \n",
       "27800                2150          Boomers  \n",
       "27801                2150           Silent  \n",
       "27802                2150       Millenials  \n",
       "27803                2150     Generation X  \n",
       "27804                2150           Silent  \n",
       "27805                2150     Generation Z  \n",
       "27806                2150          Boomers  \n",
       "27807                2150     Generation Z  \n",
       "27808                2309     Generation X  \n",
       "27809                2309       Millenials  \n",
       "27810                2309       Millenials  \n",
       "27811                2309          Boomers  \n",
       "27812                2309       Millenials  \n",
       "27813                2309           Silent  \n",
       "27814                2309       Millenials  \n",
       "27815                2309     Generation X  \n",
       "27816                2309           Silent  \n",
       "27817                2309     Generation Z  \n",
       "27818                2309     Generation Z  \n",
       "27819                2309          Boomers  \n",
       "\n",
       "[8364 rows x 12 columns]>"
      ]
     },
     "execution_count": 93,
     "metadata": {},
     "output_type": "execute_result"
    }
   ],
   "source": [
    "df1.shape\n",
    "df1 = df1.dropna()\n",
    "df1.head"
   ]
  },
  {
   "cell_type": "code",
   "execution_count": 57,
   "metadata": {},
   "outputs": [],
   "source": [
    "paises = df1.country.unique()\n",
    "generation = df1.generation.unique()"
   ]
  },
  {
   "cell_type": "code",
   "execution_count": 27,
   "metadata": {},
   "outputs": [],
   "source": [
    "matriz = np.array(df1)"
   ]
  },
  {
   "cell_type": "code",
   "execution_count": 58,
   "metadata": {},
   "outputs": [],
   "source": [
    "max_suicides = np.max(matriz[:, 6])"
   ]
  },
  {
   "cell_type": "markdown",
   "metadata": {},
   "source": [
    "1 - Momento que há mais registros de suicídio a cada 100.000 habitantes:"
   ]
  },
  {
   "cell_type": "code",
   "execution_count": 56,
   "metadata": {},
   "outputs": [
    {
     "name": "stdout",
     "output_type": "stream",
     "text": [
      "País: Suriname\n",
      "Ano registrado: 2012\n",
      "Sexo com maior taxa de suicidio: Masculino\n",
      "Média de suicídio a cada 100.000 habitantes: 187.06\n"
     ]
    }
   ],
   "source": [
    "country_max = []\n",
    "\n",
    "for i in range(len(matriz)):\n",
    "    if matriz[i][6] == max_suicides:\n",
    "        country_max.append(matriz[i])\n",
    "\n",
    "    \n",
    "print(f\"País: {country_max[0][0]}\")\n",
    "print(f\"Ano registrado: {country_max[0][1]}\")\n",
    "print(\"Sexo com maior taxa de suicidio: \" + (\"Feminino\" if country_max[0][2] == 'female' else \"Masculino\"))\n",
    "print(f\"Média de suicídio a cada 100.000 habitantes: {country_max[0][6]}\")"
   ]
  },
  {
   "cell_type": "markdown",
   "metadata": {},
   "source": [
    "2 - Quais as taxas medias de suicídio por geração:"
   ]
  },
  {
   "cell_type": "code",
   "execution_count": 88,
   "metadata": {},
   "outputs": [
    {
     "name": "stdout",
     "output_type": "stream",
     "text": [
      "\n",
      "Geração Generation X\n",
      "Taxa média de suicídios a cada 100.000 habitantes: 11.04\n",
      "\n",
      "Geração Silent\n",
      "Taxa média de suicídios a cada 100.000 habitantes: 17.62\n",
      "\n",
      "Geração G.I. Generation\n",
      "Taxa média de suicídios a cada 100.000 habitantes: 24.56\n",
      "\n",
      "Geração Boomers\n",
      "Taxa média de suicídios a cada 100.000 habitantes: 14.40\n",
      "\n",
      "Geração Millenials\n",
      "Taxa média de suicídios a cada 100.000 habitantes: 7.18\n",
      "\n",
      "Geração Generation Z\n",
      "Taxa média de suicídios a cada 100.000 habitantes: 0.64\n"
     ]
    }
   ],
   "source": [
    "a = np.sum(matriz[:,6])\n",
    "\n",
    "for i in range(len(generation)):\n",
    "    x = matriz[(matriz[:,-1] == generation[i])]\n",
    "    print(f\"\\nGeração {generation[i]}\")\n",
    "    print(f\"Taxa média de suicídios a cada 100.000 habitantes: {np.mean(x[:,6]):.2f}\")\n"
   ]
  },
  {
   "cell_type": "markdown",
   "metadata": {},
   "source": [
    "3 - Qual a menor taxa de suicídios por renda:"
   ]
  },
  {
   "cell_type": "code",
   "execution_count": null,
   "metadata": {},
   "outputs": [],
   "source": []
  }
 ],
 "metadata": {
  "accelerator": "GPU",
  "colab": {
   "name": "Trabalho_Dataset.ipynb",
   "provenance": []
  },
  "kernelspec": {
   "display_name": "Python 3",
   "language": "python",
   "name": "python3"
  },
  "language_info": {
   "codemirror_mode": {
    "name": "ipython",
    "version": 3
   },
   "file_extension": ".py",
   "mimetype": "text/x-python",
   "name": "python",
   "nbconvert_exporter": "python",
   "pygments_lexer": "ipython3",
   "version": "3.7.3"
  }
 },
 "nbformat": 4,
 "nbformat_minor": 1
}
